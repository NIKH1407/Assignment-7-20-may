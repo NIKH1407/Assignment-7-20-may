{
 "cells": [
  {
   "cell_type": "code",
   "execution_count": null,
   "id": "b60a1800",
   "metadata": {},
   "outputs": [],
   "source": [
    "#What are keywords in python? Using the keyword library, print all the python keywords"
   ]
  },
  {
   "cell_type": "code",
   "execution_count": 1,
   "id": "ad31d092",
   "metadata": {},
   "outputs": [
    {
     "name": "stdout",
     "output_type": "stream",
     "text": [
      "['False', 'None', 'True', '__peg_parser__', 'and', 'as', 'assert', 'async', 'await', 'break', 'class', 'continue', 'def', 'del', 'elif', 'else', 'except', 'finally', 'for', 'from', 'global', 'if', 'import', 'in', 'is', 'lambda', 'nonlocal', 'not', 'or', 'pass', 'raise', 'return', 'try', 'while', 'with', 'yield']\n"
     ]
    }
   ],
   "source": [
    "\"\"\"\"Keywords in Python are reserved words that have special meanings and cannot be used as identifiers (variable names, function names, etc.) They are part of the Python language syntax and are used to define the structure and logic of the code.\"\"\"\n",
    "\n",
    "\n",
    "import keyword\n",
    "\n",
    "all_keywords = keyword.kwlist\n",
    "print(all_keywords)"
   ]
  },
  {
   "cell_type": "code",
   "execution_count": null,
   "id": "6f90ae1a",
   "metadata": {},
   "outputs": [],
   "source": [
    "#What are the rules to create variables in python?"
   ]
  },
  {
   "cell_type": "code",
   "execution_count": 2,
   "id": "a799ce77",
   "metadata": {},
   "outputs": [
    {
     "ename": "SyntaxError",
     "evalue": "invalid syntax (Temp/ipykernel_11416/3323503650.py, line 19)",
     "output_type": "error",
     "traceback": [
      "\u001b[1;36m  File \u001b[1;32m\"C:\\Users\\Hitesh\\AppData\\Local\\Temp/ipykernel_11416/3323503650.py\"\u001b[1;36m, line \u001b[1;32m19\u001b[0m\n\u001b[1;33m    123abc = \"Invalid\"      # Starts with a number\u001b[0m\n\u001b[1;37m       ^\u001b[0m\n\u001b[1;31mSyntaxError\u001b[0m\u001b[1;31m:\u001b[0m invalid syntax\n"
     ]
    }
   ],
   "source": [
    "\"\"\"\"In Python, there are rules when creating variables:\n",
    "\n",
    "1. Variable Names:\n",
    "\n",
    "Variable names must start with a letter (a-z, A-Z) or an underscore (_).\n",
    "The first character of a variable name cannot be a number.\n",
    "Variable names are case-sensitive, meaning \"myVariable\" and \"myvariable\" are considered different variables.\n",
    "\n",
    "2. Valid Characters:\n",
    "\n",
    "Variable names can only contain alphanumeric characters (a-z, A-Z, 0-9) and underscores (_).\n",
    "Special characters like @, #, $, %, etc., are not allowed within variable names.\n",
    "\n",
    "3. Reserved Keywords:\n",
    "\n",
    "Python has a set of reserved keywords that cannot be used as variable names because they have special meanings in the language. For example, \"if,\" \"for,\" \"while,\" \"def,\" and \"class\" are reserved keywords.\n",
    "You can't use reserved keywords as variable names.\"\"\"\n",
    "\n",
    "123abc = \"Invalid\"      # Starts with a number\n",
    "@variable = \"Invalid\"   # Contains special character '@'\n",
    "for = 5                 # Reserved keyword used as a variable name"
   ]
  },
  {
   "cell_type": "code",
   "execution_count": null,
   "id": "caa26367",
   "metadata": {},
   "outputs": [],
   "source": [
    "# What are the standards and conventions followed for the nomenclature of variables in python to improve code readability and maintainability?"
   ]
  },
  {
   "cell_type": "code",
   "execution_count": null,
   "id": "0647acf3",
   "metadata": {},
   "outputs": [],
   "source": [
    "\"\"\"\"1. In Python, variable names should be written in lowercase letters, and words should be separated by underscores. For example, my_variable, user_name, or total_count.\n",
    "2. Avoid reserved keywords: Do not use Python's reserved keywords (e.g., for, while, if, else, etc.) as variable names. Using these keywords can lead to syntax errors.\n",
    "\n",
    "3. use all capital letters with underscores separating words. For example, MAX_SIZE or DEFAULT_TIMEOUT.\"\"\""
   ]
  },
  {
   "cell_type": "code",
   "execution_count": null,
   "id": "fdcdb9c2",
   "metadata": {},
   "outputs": [],
   "source": [
    "# What will happen if a keyword is used as a variable name"
   ]
  },
  {
   "cell_type": "code",
   "execution_count": null,
   "id": "2bb015ad",
   "metadata": {},
   "outputs": [],
   "source": [
    "\"\"\"If a keyword is used as a variable name, it will typically result in a compilation or runtime error. Keywords are reserved words in programming languages that have a predefined meaning and cannot be used as identifiers (such as variable names, function names, or class names).\"\"\""
   ]
  },
  {
   "cell_type": "code",
   "execution_count": null,
   "id": "0e0daa2d",
   "metadata": {},
   "outputs": [],
   "source": [
    "# For what purpose def keyword is used"
   ]
  },
  {
   "cell_type": "code",
   "execution_count": null,
   "id": "7ffe0025",
   "metadata": {},
   "outputs": [],
   "source": [
    "\"\"\"In Python, the def keyword is used to define a function. It is followed by the function name, a pair of parentheses, and a colon. Here's the basic syntax of defining a function using the def keyword \"\"\"\n",
    "\n",
    "def function_name(parameters):\n",
    "    # Function body\n",
    "    # Statements\n",
    "    # ...\n",
    "    return value"
   ]
  },
  {
   "cell_type": "code",
   "execution_count": null,
   "id": "c76255e2",
   "metadata": {},
   "outputs": [],
   "source": [
    "What is the operation of this special character ‘\\’?"
   ]
  },
  {
   "cell_type": "code",
   "execution_count": null,
   "id": "ae66c3b7",
   "metadata": {},
   "outputs": [],
   "source": [
    "\"\"\"\"Escape Sequences: It is used to create escape sequences within strings. Some common escape sequences include '\\n' for a newline, '\\t' for a tab, '\\r' for a carriage return, and '\\' for a literal backslash\"\"\"\n",
    "\n",
    "print(\"This is a new line.\\nThis is a tab:\\tThis is a backslash: \\\\\")\n"
   ]
  },
  {
   "cell_type": "code",
   "execution_count": null,
   "id": "637768dd",
   "metadata": {},
   "outputs": [],
   "source": [
    "Give an example of the following conditions:\n",
    "(i) Homogeneous list\n",
    "(ii) Heterogeneous set\n",
    "(iii) Homogeneous tuple\n",
    "\n",
    "\n",
    "\"\"\"\"Homogeneous List: A homogeneous list contains elements of the same data type. In this example, we'll create a homogeneous list of integers\"\"\"\n",
    "\n",
    "numbers = [1, 2, 3, 4, 5]\n",
    "print(numbers)\n",
    "\n",
    "\n",
    "\"\"\"\"A heterogeneous set contains elements of different data types. In this example, we'll create a heterogeneous set that includes both integers and strings\"\"\"\n",
    "\n",
    "my_set = {1, 'apple', 2.5, 'orange'}\n",
    "print(my_set)\n",
    "\n",
    "\n",
    "\"\"\"\"A homogeneous tuple contains elements of the same data type. Here's an example of a homogeneous tuple of strings\"\"\"\n",
    "\n",
    "names = ('Alice', 'Bob', 'Charlie', 'Dave')\n",
    "print(names)\n"
   ]
  },
  {
   "cell_type": "code",
   "execution_count": null,
   "id": "04b8decc",
   "metadata": {},
   "outputs": [],
   "source": [
    "\"\"\"\"Explain the mutable and immutable data types with proper explanation & examples\"\"\"\"\n",
    "\n",
    "\"\"\"\"Mutable data types are those that can be modified or changed after they are created. This means that you can update, add, or remove elements or modify their properties without creating a new instance of the object. When you modify a mutable object, you are working with the same memory location\"\"\"\n",
    "\n",
    "my_list = [1, 2, 3]\n",
    "my_list.append(4)  # Modifying the list by adding an element\n",
    "print(my_list)  # Output: [1, 2, 3, 4]\n",
    "\n",
    "my_list[0] = 5  # Modifying an element of the list\n",
    "print(my_list)  # Output: [5, 2, 3, 4]\n",
    "\n",
    "\n",
    "\"\"\"\"Immutable data types are those that cannot be modified or changed after they are created. This means that any operation that appears to modify the object actually creates a new object with the modified value, while leaving the original object intact. The new object is stored in a different memory location\"\"\"\n",
    "\n",
    "\n",
    "my_string = \"Hello\"\n",
    "new_string = my_string + \" World\"  # Concatenating strings creates a new string\n",
    "print(new_string)  # Output: Hello World\n",
    "\n",
    "print(my_string)  # Output: Hello (original string remains unchanged)\n"
   ]
  },
  {
   "cell_type": "code",
   "execution_count": null,
   "id": "963862d9",
   "metadata": {},
   "outputs": [],
   "source": [
    "Write a code to create the given structure using only for loop.\n",
    "    *\n",
    "   ***\n",
    "  *****\n",
    " *******\n",
    "*********"
   ]
  },
  {
   "cell_type": "code",
   "execution_count": 9,
   "id": "6b088cb1",
   "metadata": {
    "scrolled": true
   },
   "outputs": [
    {
     "name": "stdout",
     "output_type": "stream",
     "text": [
      "    *\n",
      "   ***\n",
      "  *****\n",
      " *******\n",
      "*********\n"
     ]
    }
   ],
   "source": [
    "num_rows = 5  # Number of rows in the structure\n",
    "\n",
    "for i in range(num_rows):\n",
    "    for j in range(num_rows - i - 1):\n",
    "        print(\" \", end=\"\")\n",
    "    for k in range(2*i + 1):\n",
    "        print(\"*\", end=\"\")\n",
    "    print()\n"
   ]
  },
  {
   "cell_type": "code",
   "execution_count": null,
   "id": "55a08821",
   "metadata": {},
   "outputs": [],
   "source": [
    "Write a code to create the given structure using while loop.\n",
    "|||||||||\n",
    " |||||||\n",
    "  |||||\n",
    "   |||\n",
    "    |"
   ]
  },
  {
   "cell_type": "code",
   "execution_count": 12,
   "id": "bd2a3c95",
   "metadata": {},
   "outputs": [
    {
     "name": "stdout",
     "output_type": "stream",
     "text": [
      "|||||||||\n",
      " |||||||\n",
      "  |||||\n",
      "   |||\n",
      "    |\n"
     ]
    }
   ],
   "source": [
    "num_rows = 5  # Number of rows in the structure\n",
    "i = 0\n",
    "\n",
    "while i < num_rows:\n",
    "    j = 0\n",
    "    while j < i:\n",
    "        print(\" \", end=\"\")\n",
    "        j += 1\n",
    "    \n",
    "    k = 0\n",
    "    while k < 2 * (num_rows - i) - 1:\n",
    "        print(\"|\", end=\"\")\n",
    "        k += 1\n",
    "    \n",
    "    print()\n",
    "    i += 1\n"
   ]
  },
  {
   "cell_type": "code",
   "execution_count": null,
   "id": "03d1fe64",
   "metadata": {},
   "outputs": [],
   "source": []
  }
 ],
 "metadata": {
  "kernelspec": {
   "display_name": "Python 3 (ipykernel)",
   "language": "python",
   "name": "python3"
  },
  "language_info": {
   "codemirror_mode": {
    "name": "ipython",
    "version": 3
   },
   "file_extension": ".py",
   "mimetype": "text/x-python",
   "name": "python",
   "nbconvert_exporter": "python",
   "pygments_lexer": "ipython3",
   "version": "3.9.7"
  }
 },
 "nbformat": 4,
 "nbformat_minor": 5
}
